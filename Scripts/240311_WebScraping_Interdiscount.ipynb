{
 "cells": [
  {
   "cell_type": "markdown",
   "id": "6cd97f61",
   "metadata": {},
   "source": [
    "# Data scraping with selenium\n",
    "### https://www.interdiscount.ch/de/search?search=Smartphone"
   ]
  },
  {
   "cell_type": "code",
   "execution_count": 23,
   "id": "b7e872b7",
   "metadata": {},
   "outputs": [
    {
     "data": {
      "text/plain": [
       "['Requirement already satisfied: selenium in c:\\\\users\\\\leina\\\\anaconda3\\\\lib\\\\site-packages (4.18.1)',\n",
       " 'Requirement already satisfied: urllib3[socks]<3,>=1.26 in c:\\\\users\\\\leina\\\\anaconda3\\\\lib\\\\site-packages (from selenium) (1.26.16)',\n",
       " 'Requirement already satisfied: trio~=0.17 in c:\\\\users\\\\leina\\\\anaconda3\\\\lib\\\\site-packages (from selenium) (0.24.0)',\n",
       " 'Requirement already satisfied: trio-websocket~=0.9 in c:\\\\users\\\\leina\\\\anaconda3\\\\lib\\\\site-packages (from selenium) (0.11.1)',\n",
       " 'Requirement already satisfied: certifi>=2021.10.8 in c:\\\\users\\\\leina\\\\anaconda3\\\\lib\\\\site-packages (from selenium) (2023.7.22)',\n",
       " 'Requirement already satisfied: typing_extensions>=4.9.0 in c:\\\\users\\\\leina\\\\anaconda3\\\\lib\\\\site-packages (from selenium) (4.10.0)',\n",
       " 'Requirement already satisfied: attrs>=20.1.0 in c:\\\\users\\\\leina\\\\anaconda3\\\\lib\\\\site-packages (from trio~=0.17->selenium) (22.1.0)',\n",
       " 'Requirement already satisfied: sortedcontainers in c:\\\\users\\\\leina\\\\anaconda3\\\\lib\\\\site-packages (from trio~=0.17->selenium) (2.4.0)',\n",
       " 'Requirement already satisfied: idna in c:\\\\users\\\\leina\\\\anaconda3\\\\lib\\\\site-packages (from trio~=0.17->selenium) (3.4)',\n",
       " 'Requirement already satisfied: outcome in c:\\\\users\\\\leina\\\\anaconda3\\\\lib\\\\site-packages (from trio~=0.17->selenium) (1.3.0.post0)',\n",
       " 'Requirement already satisfied: sniffio>=1.3.0 in c:\\\\users\\\\leina\\\\anaconda3\\\\lib\\\\site-packages (from trio~=0.17->selenium) (1.3.1)',\n",
       " 'Requirement already satisfied: cffi>=1.14 in c:\\\\users\\\\leina\\\\anaconda3\\\\lib\\\\site-packages (from trio~=0.17->selenium) (1.15.1)',\n",
       " 'Requirement already satisfied: wsproto>=0.14 in c:\\\\users\\\\leina\\\\anaconda3\\\\lib\\\\site-packages (from trio-websocket~=0.9->selenium) (1.2.0)',\n",
       " 'Requirement already satisfied: PySocks!=1.5.7,<2.0,>=1.5.6 in c:\\\\users\\\\leina\\\\anaconda3\\\\lib\\\\site-packages (from urllib3[socks]<3,>=1.26->selenium) (1.7.1)',\n",
       " 'Requirement already satisfied: pycparser in c:\\\\users\\\\leina\\\\anaconda3\\\\lib\\\\site-packages (from cffi>=1.14->trio~=0.17->selenium) (2.21)',\n",
       " 'Requirement already satisfied: h11<1,>=0.9.0 in c:\\\\users\\\\leina\\\\anaconda3\\\\lib\\\\site-packages (from wsproto>=0.14->trio-websocket~=0.9->selenium) (0.14.0)']"
      ]
     },
     "execution_count": 23,
     "metadata": {},
     "output_type": "execute_result"
    }
   ],
   "source": [
    "# !! runs shell commands within a notebok\n",
    "!! pip install selenium"
   ]
  },
  {
   "cell_type": "code",
   "execution_count": 24,
   "id": "9a74b501",
   "metadata": {},
   "outputs": [
    {
     "name": "stdout",
     "output_type": "stream",
     "text": [
      "selenium.__version__='4.18.1'\n"
     ]
    }
   ],
   "source": [
    "# Load and display version of selenium\n",
    "import selenium\n",
    "print(f'{selenium.__version__=}')"
   ]
  },
  {
   "cell_type": "code",
   "execution_count": 25,
   "id": "7d9f4072",
   "metadata": {},
   "outputs": [],
   "source": [
    "from selenium.webdriver.common.by import By\n",
    "from selenium.webdriver.support.ui import WebDriverWait\n",
    "from selenium import webdriver\n",
    "driver = webdriver.Chrome()\n",
    "\n",
    "# Open a website\n",
    "# driver.get('https://www.interdiscount.ch/de/search?search=Smartphone&page=1')"
   ]
  },
  {
   "cell_type": "code",
   "execution_count": 26,
   "id": "580c99e0",
   "metadata": {},
   "outputs": [
    {
     "name": "stdout",
     "output_type": "stream",
     "text": [
      "https://www.interdiscount.ch/de/search?search=Smartphone&page=1\n"
     ]
    },
    {
     "ename": "NoSuchWindowException",
     "evalue": "Message: no such window: target window already closed\nfrom unknown error: web view not found\n  (Session info: chrome=122.0.6261.112)\nStacktrace:\n\tGetHandleVerifier [0x00007FF75185AD32+56930]\n\t(No symbol) [0x00007FF7517CF632]\n\t(No symbol) [0x00007FF7516842E5]\n\t(No symbol) [0x00007FF751661D4C]\n\t(No symbol) [0x00007FF7516F23F7]\n\t(No symbol) [0x00007FF751707891]\n\t(No symbol) [0x00007FF7516EBA43]\n\t(No symbol) [0x00007FF7516BD438]\n\t(No symbol) [0x00007FF7516BE4D1]\n\tGetHandleVerifier [0x00007FF751BD6ABD+3709933]\n\tGetHandleVerifier [0x00007FF751C2FFFD+4075821]\n\tGetHandleVerifier [0x00007FF751C2818F+4043455]\n\tGetHandleVerifier [0x00007FF7518F9766+706710]\n\t(No symbol) [0x00007FF7517DB90F]\n\t(No symbol) [0x00007FF7517D6AF4]\n\t(No symbol) [0x00007FF7517D6C4C]\n\t(No symbol) [0x00007FF7517C6904]\n\tBaseThreadInitThunk [0x00007FFE90FA257D+29]\n\tRtlUserThreadStart [0x00007FFE9200AA58+40]\n",
     "output_type": "error",
     "traceback": [
      "\u001b[1;31m---------------------------------------------------------------------------\u001b[0m",
      "\u001b[1;31mNoSuchWindowException\u001b[0m                     Traceback (most recent call last)",
      "Cell \u001b[1;32mIn[26], line 5\u001b[0m\n\u001b[0;32m      3\u001b[0m url \u001b[38;5;241m=\u001b[39m \u001b[38;5;124mf\u001b[39m\u001b[38;5;124m\"\u001b[39m\u001b[38;5;124mhttps://www.interdiscount.ch/de/search?search=Smartphone&page=\u001b[39m\u001b[38;5;132;01m{\u001b[39;00mi\u001b[38;5;241m+\u001b[39m\u001b[38;5;241m1\u001b[39m\u001b[38;5;132;01m}\u001b[39;00m\u001b[38;5;124m\"\u001b[39m\n\u001b[0;32m      4\u001b[0m \u001b[38;5;28mprint\u001b[39m(url)\n\u001b[1;32m----> 5\u001b[0m driver\u001b[38;5;241m.\u001b[39mget(url)\n\u001b[0;32m      7\u001b[0m \u001b[38;5;66;03m# Add a delay to give the page time to load\u001b[39;00m\n\u001b[0;32m      8\u001b[0m time\u001b[38;5;241m.\u001b[39msleep(\u001b[38;5;241m2\u001b[39m)\n",
      "File \u001b[1;32m~\\anaconda3\\Lib\\site-packages\\selenium\\webdriver\\remote\\webdriver.py:356\u001b[0m, in \u001b[0;36mWebDriver.get\u001b[1;34m(self, url)\u001b[0m\n\u001b[0;32m    354\u001b[0m \u001b[38;5;28;01mdef\u001b[39;00m \u001b[38;5;21mget\u001b[39m(\u001b[38;5;28mself\u001b[39m, url: \u001b[38;5;28mstr\u001b[39m) \u001b[38;5;241m-\u001b[39m\u001b[38;5;241m>\u001b[39m \u001b[38;5;28;01mNone\u001b[39;00m:\n\u001b[0;32m    355\u001b[0m \u001b[38;5;250m    \u001b[39m\u001b[38;5;124;03m\"\"\"Loads a web page in the current browser session.\"\"\"\u001b[39;00m\n\u001b[1;32m--> 356\u001b[0m     \u001b[38;5;28mself\u001b[39m\u001b[38;5;241m.\u001b[39mexecute(Command\u001b[38;5;241m.\u001b[39mGET, {\u001b[38;5;124m\"\u001b[39m\u001b[38;5;124murl\u001b[39m\u001b[38;5;124m\"\u001b[39m: url})\n",
      "File \u001b[1;32m~\\anaconda3\\Lib\\site-packages\\selenium\\webdriver\\remote\\webdriver.py:347\u001b[0m, in \u001b[0;36mWebDriver.execute\u001b[1;34m(self, driver_command, params)\u001b[0m\n\u001b[0;32m    345\u001b[0m response \u001b[38;5;241m=\u001b[39m \u001b[38;5;28mself\u001b[39m\u001b[38;5;241m.\u001b[39mcommand_executor\u001b[38;5;241m.\u001b[39mexecute(driver_command, params)\n\u001b[0;32m    346\u001b[0m \u001b[38;5;28;01mif\u001b[39;00m response:\n\u001b[1;32m--> 347\u001b[0m     \u001b[38;5;28mself\u001b[39m\u001b[38;5;241m.\u001b[39merror_handler\u001b[38;5;241m.\u001b[39mcheck_response(response)\n\u001b[0;32m    348\u001b[0m     response[\u001b[38;5;124m\"\u001b[39m\u001b[38;5;124mvalue\u001b[39m\u001b[38;5;124m\"\u001b[39m] \u001b[38;5;241m=\u001b[39m \u001b[38;5;28mself\u001b[39m\u001b[38;5;241m.\u001b[39m_unwrap_value(response\u001b[38;5;241m.\u001b[39mget(\u001b[38;5;124m\"\u001b[39m\u001b[38;5;124mvalue\u001b[39m\u001b[38;5;124m\"\u001b[39m, \u001b[38;5;28;01mNone\u001b[39;00m))\n\u001b[0;32m    349\u001b[0m     \u001b[38;5;28;01mreturn\u001b[39;00m response\n",
      "File \u001b[1;32m~\\anaconda3\\Lib\\site-packages\\selenium\\webdriver\\remote\\errorhandler.py:229\u001b[0m, in \u001b[0;36mErrorHandler.check_response\u001b[1;34m(self, response)\u001b[0m\n\u001b[0;32m    227\u001b[0m         alert_text \u001b[38;5;241m=\u001b[39m value[\u001b[38;5;124m\"\u001b[39m\u001b[38;5;124malert\u001b[39m\u001b[38;5;124m\"\u001b[39m]\u001b[38;5;241m.\u001b[39mget(\u001b[38;5;124m\"\u001b[39m\u001b[38;5;124mtext\u001b[39m\u001b[38;5;124m\"\u001b[39m)\n\u001b[0;32m    228\u001b[0m     \u001b[38;5;28;01mraise\u001b[39;00m exception_class(message, screen, stacktrace, alert_text)  \u001b[38;5;66;03m# type: ignore[call-arg]  # mypy is not smart enough here\u001b[39;00m\n\u001b[1;32m--> 229\u001b[0m \u001b[38;5;28;01mraise\u001b[39;00m exception_class(message, screen, stacktrace)\n",
      "\u001b[1;31mNoSuchWindowException\u001b[0m: Message: no such window: target window already closed\nfrom unknown error: web view not found\n  (Session info: chrome=122.0.6261.112)\nStacktrace:\n\tGetHandleVerifier [0x00007FF75185AD32+56930]\n\t(No symbol) [0x00007FF7517CF632]\n\t(No symbol) [0x00007FF7516842E5]\n\t(No symbol) [0x00007FF751661D4C]\n\t(No symbol) [0x00007FF7516F23F7]\n\t(No symbol) [0x00007FF751707891]\n\t(No symbol) [0x00007FF7516EBA43]\n\t(No symbol) [0x00007FF7516BD438]\n\t(No symbol) [0x00007FF7516BE4D1]\n\tGetHandleVerifier [0x00007FF751BD6ABD+3709933]\n\tGetHandleVerifier [0x00007FF751C2FFFD+4075821]\n\tGetHandleVerifier [0x00007FF751C2818F+4043455]\n\tGetHandleVerifier [0x00007FF7518F9766+706710]\n\t(No symbol) [0x00007FF7517DB90F]\n\t(No symbol) [0x00007FF7517D6AF4]\n\t(No symbol) [0x00007FF7517D6C4C]\n\t(No symbol) [0x00007FF7517C6904]\n\tBaseThreadInitThunk [0x00007FFE90FA257D+29]\n\tRtlUserThreadStart [0x00007FFE9200AA58+40]\n"
     ]
    }
   ],
   "source": [
    "import time\n",
    "for i in range(15):\n",
    "    url = f\"https://www.interdiscount.ch/de/search?search=Smartphone&page={i+1}\"\n",
    "    print(url)\n",
    "    driver.get(url)\n",
    "\n",
    "    # Add a delay to give the page time to load\n",
    "    time.sleep(2)\n",
    "\n",
    "    phones = driver.find_elements(By.CLASS_NAME, '_3UBePl._1Tqbve._1Z-HSp._1__h-Q._368eQg')\n",
    "    \n",
    "    for phone in phones:\n",
    "        name = phone.find_element(By.XPATH, './/div[@class=\"_2JczNu\"]/h4').text\n",
    "        price = phone.find_element(By.XPATH, './/div[@class=\"krweWr _19DrBd\"]/div').text\n",
    "\n",
    "        # Print or use the extracted information\n",
    "        print(f\"Name: {name}\")\n",
    "        print(f\"Price: {price}\")\n",
    "        print(\"-\" * 30)"
   ]
  },
  {
   "cell_type": "code",
   "execution_count": 8,
   "id": "65c27a2c",
   "metadata": {},
   "outputs": [
    {
     "data": {
      "text/plain": [
       "[]"
      ]
     },
     "execution_count": 8,
     "metadata": {},
     "output_type": "execute_result"
    }
   ],
   "source": [
    "phones"
   ]
  },
  {
   "cell_type": "code",
   "execution_count": null,
   "id": "7e13d78a",
   "metadata": {},
   "outputs": [],
   "source": []
  },
  {
   "cell_type": "code",
   "execution_count": null,
   "id": "71150c34",
   "metadata": {},
   "outputs": [],
   "source": []
  }
 ],
 "metadata": {
  "kernelspec": {
   "display_name": "Python 3 (ipykernel)",
   "language": "python",
   "name": "python3"
  },
  "language_info": {
   "codemirror_mode": {
    "name": "ipython",
    "version": 3
   },
   "file_extension": ".py",
   "mimetype": "text/x-python",
   "name": "python",
   "nbconvert_exporter": "python",
   "pygments_lexer": "ipython3",
   "version": "3.11.4"
  }
 },
 "nbformat": 4,
 "nbformat_minor": 5
}
